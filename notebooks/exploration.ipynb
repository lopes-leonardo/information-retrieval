{
 "cells": [
  {
   "cell_type": "markdown",
   "id": "64589665-4557-4323-98ad-2eea72a24fd7",
   "metadata": {},
   "source": [
    "# Data exploration\n",
    "Techniques and tests over the text corpus for 20NewsGroup Dataset"
   ]
  },
  {
   "cell_type": "code",
   "execution_count": 1,
   "id": "7ec8d58c-b051-4b72-842c-b00c5c3c8a22",
   "metadata": {},
   "outputs": [],
   "source": [
    "import nltk\n",
    "import string\n",
    "import pandas as pd\n",
    "import re\n",
    "import pickle\n",
    "from nltk.corpus import stopwords\n",
    "from nltk.stem.porter import PorterStemmer\n",
    "from nltk.stem import RSLPStemmer\n",
    "from IPython.display import display, clear_output"
   ]
  },
  {
   "cell_type": "code",
   "execution_count": 2,
   "id": "1ce445c8-27e6-4a97-8b36-c8e830452a52",
   "metadata": {},
   "outputs": [],
   "source": [
    "df_test = pd.read_csv(\"datasets/20news-test.csv\")\n",
    "df_train = pd.read_csv(\"datasets/20news-train-filtered.csv\")"
   ]
  },
  {
   "cell_type": "code",
   "execution_count": 3,
   "id": "8fdfaf9a-4a80-42b8-b891-c6a44546d5c8",
   "metadata": {},
   "outputs": [
    {
     "name": "stdout",
     "output_type": "stream",
     "text": [
      "19997 2000 17287\n"
     ]
    }
   ],
   "source": [
    "df_train_clean = df_train[~df_train.id.isin(df_test.id.to_list())]\n",
    "print(len(df_train), len(df_test), len(df_train_clean))"
   ]
  },
  {
   "cell_type": "code",
   "execution_count": 3,
   "id": "5c43c76b-315c-43d9-b50b-b8b58c80fbe2",
   "metadata": {},
   "outputs": [],
   "source": [
    "text = df_test.iloc[0][\"text\"]"
   ]
  },
  {
   "cell_type": "markdown",
   "id": "93a82143-f6a2-4a02-9d1d-a6dcc35b5565",
   "metadata": {},
   "source": [
    "## NLTK Preprocessing"
   ]
  },
  {
   "cell_type": "code",
   "execution_count": 22,
   "id": "1bce2343-f182-40d0-a59e-e2034698ca2c",
   "metadata": {},
   "outputs": [],
   "source": [
    "def to_lower(text:str)-> str:\n",
    "    \"\"\" Get input sentence and returns all words as lowercase\n",
    "    \"\"\"\n",
    "    return text.lower()\n",
    "\n",
    "def remove_symbols(text:str)-> str:\n",
    "    \"\"\" Get the input text and removes all symbol from english language\n",
    "    TODO: Check if symbol is separing words and add a space\n",
    "    TODO: REGEX\n",
    "    \"\"\"\n",
    "    # text = \"\".join([char for char in text if char not in string.punctuation])\n",
    "    text = re.sub(r'([!\"#$%&\\'()*+,-./:;<=>?@\\[\\\\\\]^_`{|}~])', ' ', text)\n",
    "    return text\n",
    "\n",
    "def word_tokenize(text:str)->list:\n",
    "    words = nltk.word_tokenize(text)\n",
    "    return words\n",
    "\n",
    "def remove_stopwords(words:list)->list:\n",
    "    stop_words = stopwords.words('english')\n",
    "    filtered_words = [word for word in words if word not in stop_words]\n",
    "    return filtered_words\n",
    "\n",
    "def remove_numbers(words:list)->list:\n",
    "    words = [w for w in words if not w.isdecimal()]\n",
    "    return words\n",
    "\n",
    "def apply_stemming(words:list)->list:\n",
    "    stemmer = RSLPStemmer()\n",
    "    stemmed = [stemmer.stem(word) for word in words]\n",
    "    return stemmed\n",
    "\n",
    "def remove_single_letters(words:list)->list:\n",
    "    words = [w for w in words if len(w) > 1]\n",
    "    return words\n",
    "\n",
    "def process_sentence(text:str,\n",
    "                     process_symbols:bool = True,\n",
    "                     process_stopwords:bool = True,\n",
    "                     process_numbers:bool = True,\n",
    "                     process_single_letters:bool = True)-> list:\n",
    "    \"\"\" Get a raw sentence and applies all preprocessing stages\n",
    "    \"\"\"\n",
    "    text = to_lower(text)\n",
    "    \n",
    "    if process_symbols:\n",
    "        text = remove_symbols(text)\n",
    "    \n",
    "    words = word_tokenize(text)\n",
    "    # print(\"without symbols\", len(words))\n",
    "    \n",
    "    if process_stopwords:\n",
    "        words = remove_stopwords(words)\n",
    "    # print(\"without stopwords\", len(words))\n",
    "    \n",
    "    if process_numbers:\n",
    "        words = remove_numbers(words)\n",
    "    # print(\"without numbers\", len(words))\n",
    "    \n",
    "    if process_single_letters:\n",
    "        words = remove_single_letters(words)\n",
    "    \n",
    "    words = apply_stemming(words)\n",
    "    \n",
    "    return words\n"
   ]
  },
  {
   "cell_type": "code",
   "execution_count": 23,
   "id": "24154804-65fe-4225-8466-3abbd3372c58",
   "metadata": {},
   "outputs": [
    {
     "data": {
      "text/plain": [
       "'Processing 19997/19997'"
      ]
     },
     "metadata": {},
     "output_type": "display_data"
    },
    {
     "data": {
      "text/plain": [
       "19997"
      ]
     },
     "execution_count": 23,
     "metadata": {},
     "output_type": "execute_result"
    }
   ],
   "source": [
    "processed = []\n",
    "total = len(df_train)\n",
    "for index, row in df_train.iterrows():\n",
    "    clear_output(wait=True)\n",
    "    display(f\"Processing {index+1}/{total}\")\n",
    "    processed.append(process_sentence(row[\"text\"]))\n",
    "len(processed)"
   ]
  },
  {
   "cell_type": "code",
   "execution_count": 25,
   "id": "341b82ad-addb-46c7-bcdb-1b3872a22b8b",
   "metadata": {},
   "outputs": [],
   "source": [
    "with open('./datasets/20-news-processed-no-singles.pickle', 'wb') as f:\n",
    "    pickle.dump(processed, f, pickle.HIGHEST_PROTOCOL)"
   ]
  },
  {
   "cell_type": "code",
   "execution_count": 26,
   "id": "33a2c865-fc44-49dd-a5e6-bfa1dc7f23cf",
   "metadata": {},
   "outputs": [],
   "source": [
    "with open('./datasets/20-news-processed-no-singles.pickle', 'rb') as f:\n",
    "    dataset = pickle.load(f)"
   ]
  },
  {
   "cell_type": "code",
   "execution_count": 11,
   "id": "d4fc7052-709f-42f7-91ae-de016266f9d9",
   "metadata": {},
   "outputs": [
    {
     "data": {
      "text/plain": [
       "19997"
      ]
     },
     "execution_count": 11,
     "metadata": {},
     "output_type": "execute_result"
    }
   ],
   "source": [
    "len(dataset)"
   ]
  },
  {
   "cell_type": "code",
   "execution_count": 27,
   "id": "69b64c34-b4e1-4d6b-97f6-3aea36db0860",
   "metadata": {},
   "outputs": [
    {
     "data": {
      "text/plain": [
       "128791"
      ]
     },
     "execution_count": 27,
     "metadata": {},
     "output_type": "execute_result"
    }
   ],
   "source": [
    "raw_word_corpus = [w for item in dataset for w in item]\n",
    "raw_word_corpus = list(set(word_corpus))\n",
    "len(raw_word_corpus)"
   ]
  },
  {
   "cell_type": "code",
   "execution_count": 28,
   "id": "1f3a7caa-ed90-4b10-922d-edbf76a47889",
   "metadata": {},
   "outputs": [
    {
     "data": {
      "text/plain": [
       "128791"
      ]
     },
     "execution_count": 28,
     "metadata": {},
     "output_type": "execute_result"
    }
   ],
   "source": [
    "term_count = {w:0 for w in raw_word_corpus}\n",
    "len(term_count)"
   ]
  },
  {
   "cell_type": "code",
   "execution_count": 29,
   "id": "738a70f4-c7d1-4369-8c90-1a4424379eee",
   "metadata": {},
   "outputs": [],
   "source": [
    "for text in dataset:\n",
    "    for word in text:\n",
    "        term_count[word] += 1"
   ]
  },
  {
   "cell_type": "code",
   "execution_count": 30,
   "id": "36827e26-d4e3-406b-80c9-d86fbece7e25",
   "metadata": {},
   "outputs": [
    {
     "ename": "TypeError",
     "evalue": "unhashable type: 'slice'",
     "output_type": "error",
     "traceback": [
      "\u001b[0;31m---------------------------------------------------------------------------\u001b[0m",
      "\u001b[0;31mTypeError\u001b[0m                                 Traceback (most recent call last)",
      "Input \u001b[0;32mIn [30]\u001b[0m, in \u001b[0;36m<cell line: 2>\u001b[0;34m()\u001b[0m\n\u001b[1;32m      1\u001b[0m sorted_term_count \u001b[38;5;241m=\u001b[39m {k: v \u001b[38;5;28;01mfor\u001b[39;00m k, v \u001b[38;5;129;01min\u001b[39;00m \u001b[38;5;28msorted\u001b[39m(term_count\u001b[38;5;241m.\u001b[39mitems(), key\u001b[38;5;241m=\u001b[39m\u001b[38;5;28;01mlambda\u001b[39;00m item: item[\u001b[38;5;241m1\u001b[39m], reverse\u001b[38;5;241m=\u001b[39m\u001b[38;5;28;01mTrue\u001b[39;00m)}\n\u001b[0;32m----> 2\u001b[0m \u001b[43msorted_term_count\u001b[49m\u001b[43m[\u001b[49m\u001b[38;5;241;43m0\u001b[39;49m\u001b[43m:\u001b[49m\u001b[38;5;241;43m100\u001b[39;49m\u001b[43m]\u001b[49m\n",
      "\u001b[0;31mTypeError\u001b[0m: unhashable type: 'slice'"
     ]
    }
   ],
   "source": [
    "sorted_term_count = {k: v for k, v in sorted(term_count.items(), key=lambda item: item[1], reverse=True)}\n",
    "sorted_term_count"
   ]
  },
  {
   "cell_type": "code",
   "execution_count": 34,
   "id": "64cd0066-15ea-43a8-99e8-a61d643a578f",
   "metadata": {},
   "outputs": [],
   "source": [
    "df = pd.DataFrame(list(sorted_term_count.items()), columns=[\"word\", \"count\"])"
   ]
  },
  {
   "cell_type": "code",
   "execution_count": 66,
   "id": "1179e753-4c1d-4030-affc-136490df9a62",
   "metadata": {},
   "outputs": [
    {
     "data": {
      "text/plain": [
       "pandas.core.frame.DataFrame"
      ]
     },
     "execution_count": 66,
     "metadata": {},
     "output_type": "execute_result"
    }
   ],
   "source": [
    "type(df)"
   ]
  },
  {
   "cell_type": "code",
   "execution_count": 40,
   "id": "297048a9-73c0-4b94-a3bc-b9cdd2c44f23",
   "metadata": {},
   "outputs": [
    {
     "data": {
      "text/html": [
       "<div>\n",
       "<style scoped>\n",
       "    .dataframe tbody tr th:only-of-type {\n",
       "        vertical-align: middle;\n",
       "    }\n",
       "\n",
       "    .dataframe tbody tr th {\n",
       "        vertical-align: top;\n",
       "    }\n",
       "\n",
       "    .dataframe thead th {\n",
       "        text-align: right;\n",
       "    }\n",
       "</style>\n",
       "<table border=\"1\" class=\"dataframe\">\n",
       "  <thead>\n",
       "    <tr style=\"text-align: right;\">\n",
       "      <th></th>\n",
       "      <th>word</th>\n",
       "      <th>count</th>\n",
       "      <th>average_count</th>\n",
       "    </tr>\n",
       "  </thead>\n",
       "  <tbody>\n",
       "    <tr>\n",
       "      <th>0</th>\n",
       "      <td>ax</td>\n",
       "      <td>62420</td>\n",
       "      <td>3.121468</td>\n",
       "    </tr>\n",
       "    <tr>\n",
       "      <th>1</th>\n",
       "      <td>one</td>\n",
       "      <td>16311</td>\n",
       "      <td>0.815672</td>\n",
       "    </tr>\n",
       "    <tr>\n",
       "      <th>2</th>\n",
       "      <td>would</td>\n",
       "      <td>15772</td>\n",
       "      <td>0.788718</td>\n",
       "    </tr>\n",
       "    <tr>\n",
       "      <th>3</th>\n",
       "      <td>edu</td>\n",
       "      <td>12098</td>\n",
       "      <td>0.604991</td>\n",
       "    </tr>\n",
       "    <tr>\n",
       "      <th>4</th>\n",
       "      <td>com</td>\n",
       "      <td>11281</td>\n",
       "      <td>0.564135</td>\n",
       "    </tr>\n",
       "    <tr>\n",
       "      <th>...</th>\n",
       "      <td>...</td>\n",
       "      <td>...</td>\n",
       "      <td>...</td>\n",
       "    </tr>\n",
       "    <tr>\n",
       "      <th>128786</th>\n",
       "      <td>aset</td>\n",
       "      <td>1</td>\n",
       "      <td>0.000050</td>\n",
       "    </tr>\n",
       "    <tr>\n",
       "      <th>128787</th>\n",
       "      <td>d6f1q</td>\n",
       "      <td>1</td>\n",
       "      <td>0.000050</td>\n",
       "    </tr>\n",
       "    <tr>\n",
       "      <th>128788</th>\n",
       "      <td>lljc1jd0</td>\n",
       "      <td>1</td>\n",
       "      <td>0.000050</td>\n",
       "    </tr>\n",
       "    <tr>\n",
       "      <th>128789</th>\n",
       "      <td>mrftzrm</td>\n",
       "      <td>1</td>\n",
       "      <td>0.000050</td>\n",
       "    </tr>\n",
       "    <tr>\n",
       "      <th>128790</th>\n",
       "      <td>myv0</td>\n",
       "      <td>1</td>\n",
       "      <td>0.000050</td>\n",
       "    </tr>\n",
       "  </tbody>\n",
       "</table>\n",
       "<p>128791 rows × 3 columns</p>\n",
       "</div>"
      ],
      "text/plain": [
       "            word  count  average_count\n",
       "0             ax  62420       3.121468\n",
       "1            one  16311       0.815672\n",
       "2          would  15772       0.788718\n",
       "3            edu  12098       0.604991\n",
       "4            com  11281       0.564135\n",
       "...          ...    ...            ...\n",
       "128786      aset      1       0.000050\n",
       "128787     d6f1q      1       0.000050\n",
       "128788  lljc1jd0      1       0.000050\n",
       "128789   mrftzrm      1       0.000050\n",
       "128790      myv0      1       0.000050\n",
       "\n",
       "[128791 rows x 3 columns]"
      ]
     },
     "execution_count": 40,
     "metadata": {},
     "output_type": "execute_result"
    }
   ],
   "source": [
    "df[\"average_count\"] = df[\"count\"]/len(dataset)\n",
    "df"
   ]
  },
  {
   "cell_type": "code",
   "execution_count": 65,
   "id": "6f2e6878-a522-44c8-aa6d-ece4c0777a34",
   "metadata": {},
   "outputs": [],
   "source": [
    "word_corpus = df[df[\"average_count\"].between(0.02, 0.6)]\n",
    "word_corpus.to_csv(\"./datasets/20-news-word-corpus.csv\", index=False)"
   ]
  },
  {
   "cell_type": "code",
   "execution_count": 24,
   "id": "e5b7ea00-c547-4ae6-88bb-0e543bd11587",
   "metadata": {},
   "outputs": [],
   "source": [
    "with open('./datasets/word-corpus-term-count-numbers-removed.pickle', 'wb') as f:\n",
    "    pickle.dump(sorted_term_count, f, pickle.HIGHEST_PROTOCOL)"
   ]
  }
 ],
 "metadata": {
  "kernelspec": {
   "display_name": "retrieval",
   "language": "python",
   "name": "retrieval"
  },
  "language_info": {
   "codemirror_mode": {
    "name": "ipython",
    "version": 3
   },
   "file_extension": ".py",
   "mimetype": "text/x-python",
   "name": "python",
   "nbconvert_exporter": "python",
   "pygments_lexer": "ipython3",
   "version": "3.10.4"
  }
 },
 "nbformat": 4,
 "nbformat_minor": 5
}
